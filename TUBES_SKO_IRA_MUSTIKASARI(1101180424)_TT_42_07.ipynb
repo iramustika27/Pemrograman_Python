{
  "nbformat": 4,
  "nbformat_minor": 0,
  "metadata": {
    "colab": {
      "name": "TUBES SKO IRA MUSTIKASARI(1101180424) TT-42-07.ipynb",
      "provenance": [],
      "authorship_tag": "ABX9TyOnIhrEQ/1Sqcx9BHXgwrY2",
      "include_colab_link": true
    },
    "kernelspec": {
      "name": "python3",
      "display_name": "Python 3"
    }
  },
  "cells": [
    {
      "cell_type": "markdown",
      "metadata": {
        "id": "view-in-github",
        "colab_type": "text"
      },
      "source": [
        "<a href=\"https://colab.research.google.com/github/iramustika27/Pemrograman_Python/blob/main/TUBES_SKO_IRA_MUSTIKASARI(1101180424)_TT_42_07.ipynb\" target=\"_parent\"><img src=\"https://colab.research.google.com/assets/colab-badge.svg\" alt=\"Open In Colab\"/></a>"
      ]
    },
    {
      "cell_type": "markdown",
      "metadata": {
        "id": "oAmouuDivtjF"
      },
      "source": [
        "Nama : Ira Mustikasari\r\n",
        "\r\n",
        "NIM : 1101180424\r\n",
        "\r\n",
        "Kelas: TT-42-07"
      ]
    },
    {
      "cell_type": "markdown",
      "metadata": {
        "id": "g7FKDCY2LCg7"
      },
      "source": [
        "Perancangan FTTB:\r\n",
        "\r\n",
        "Pada peracncangan FTTB yaitu berawal dari sentral ke ODF dilanjutkan ke ODC lalu ke ODP kemudian ke Roset. Satu gedung berisikan 40 lantai, diamana setiap lantainya memiliki 20 kamar. Berdasarkan rencana tersebut maka akan digunakan 6 konektor dan 2 spliter, menggunnakan spliter 1:64 dengan redaman 19.5 dB untuk ODC ke ODP dan spliter 1:32 dengan redaman 16 dB untuk ODP ke Roset. Saya menggunakan fiber jenis G625D dengan panjang gelombang 1490 nm serta redaman 0.28 dB/Km. Terdapat jumlah konektor 6 dan 2 splitter, maka splicer ada 8 buah yang memiliki redaman 0.1 db. Saya akan menganalisis lantai 8 sesuai dengan absen saya.\r\n"
      ]
    },
    {
      "cell_type": "code",
      "metadata": {
        "id": "CNzuw6wbwIwK"
      },
      "source": [
        "import math as m\r\n",
        "import matplotlib.pyplot as plt\r\n",
        "import numpy as np"
      ],
      "execution_count": 2,
      "outputs": []
    },
    {
      "cell_type": "code",
      "metadata": {
        "id": "JAMLBbhjwOgx"
      },
      "source": [
        "#Converter\r\n",
        "NtL = lambda x : 10 * np.log10(x)\r\n",
        "LtN = lambda x : 10**(x/10)\r\n",
        "\r\n",
        "#Parameter SNR\r\n",
        "R = 0.85 #Responsivitas (A/W)\r\n",
        "SM = 3 #Safety Margin (dB)\r\n",
        "M = -0.23 #Tambahan daya sinyal APD (dB)\r\n",
        "q = 1.6*10**-19\r\n",
        "id = 200*10**-9 #arus gelap (A)\r\n",
        "B = 8*10**9 #Bandwith (Hz)\r\n",
        "F = 1 #F(M), Faktor Gain\r\n",
        "K = 1.38*10**-23\r\n",
        "Teff = 290 #Kelvin\r\n",
        "RL = 50 #Ekuivalen Resistansi (Ohm)\r\n",
        "\r\n",
        "#Parameter Pr\r\n",
        "#jarak dari sentral ke ODP = 15 km\r\n",
        "#jarak dari ODP ke Roset = <500 m --> 5*8 = 40 m \r\n",
        "#jarak total = 15000 + 40 = 15040 m\r\n",
        "\r\n",
        "d = np.arange(0.040,15.041,1) #Jarak (km)\r\n",
        "L_fiber = 0.28 #0.28 #Loss dari fiber berdasarkan jenis G625D (dB)  \r\n",
        "N_splicer = 8 #Jumlah Splicer\r\n",
        "L_splicer = 0.1 #Loss dari splicer (db)\r\n",
        "N_connector = 6 #Jumlah Konektor\r\n",
        "L_connector = 0.3 #Loss dari konektor (dB)\r\n",
        "L_splitter = 16 + 19.5 #loss dari splitter (dB) diambil redaman yang paling kecil, milik 1:32\r\n",
        "Pt = 3 #Daya tx (dBm)"
      ],
      "execution_count": 3,
      "outputs": []
    },
    {
      "cell_type": "code",
      "metadata": {
        "id": "1pM1GJTqwcT_",
        "colab": {
          "base_uri": "https://localhost:8080/"
        },
        "outputId": "4c559cc0-6b65-4a5c-8597-a2859a960bea"
      },
      "source": [
        "#RUMUS PR\r\n",
        "def P_receive():\r\n",
        "  #Pr,Pt (dBm)\r\n",
        "  #L_fiber,N_splitter,L_splicer,N_connector,L_connector,L_splitter (dB)\r\n",
        "\r\n",
        "  hambatan_fiber = d * L_fiber\r\n",
        "  hambatan_splicer = N_splicer * L_splicer\r\n",
        "  hambatan_connector = N_connector * L_connector\r\n",
        "\r\n",
        "  alfa_total = hambatan_fiber + hambatan_splicer + hambatan_connector + L_splitter + SM\r\n",
        "  Pr = Pt - alfa_total\r\n",
        "  return Pr\r\n",
        "\r\n",
        "Pr = P_receive()\r\n",
        "print('Daya Terima = ', Pr)"
      ],
      "execution_count": 4,
      "outputs": [
        {
          "output_type": "stream",
          "text": [
            "Daya Terima =  [-38.1112 -38.3912 -38.6712 -38.9512 -39.2312 -39.5112 -39.7912 -40.0712\n",
            " -40.3512 -40.6312 -40.9112 -41.1912 -41.4712 -41.7512 -42.0312 -42.3112]\n"
          ],
          "name": "stdout"
        }
      ]
    },
    {
      "cell_type": "code",
      "metadata": {
        "id": "jSh8tME4wjrU",
        "colab": {
          "base_uri": "https://localhost:8080/"
        },
        "outputId": "60c560b1-c0e7-4487-8de6-2010486f398b"
      },
      "source": [
        "#Arus Primer\r\n",
        "def arus_primer():\r\n",
        "  Pr_num = LtN(Pr)\r\n",
        "  ip = Pr_num * R\r\n",
        "  return ip\r\n",
        "ip = arus_primer()\r\n",
        "print(\"Ip = \", ip)"
      ],
      "execution_count": 5,
      "outputs": [
        {
          "output_type": "stream",
          "text": [
            "Ip =  [1.31310340e-04 1.23111586e-04 1.15424746e-04 1.08217856e-04\n",
            " 1.01460950e-04 9.51259322e-05 8.91864599e-05 8.36178363e-05\n",
            " 7.83969064e-05 7.35019609e-05 6.89126460e-05 6.46098787e-05\n",
            " 6.05757675e-05 5.67935382e-05 5.32474636e-05 4.99227989e-05]\n"
          ],
          "name": "stdout"
        }
      ]
    },
    {
      "cell_type": "code",
      "metadata": {
        "id": "KsCOC9s5wn4z",
        "colab": {
          "base_uri": "https://localhost:8080/"
        },
        "outputId": "d4db0af5-9ad8-4493-c729-c00ad8a4a2be"
      },
      "source": [
        "#Signal Power\r\n",
        "def signal_power():\r\n",
        "  Is_kuadrat = (ip*M)**2\r\n",
        "  return Is_kuadrat\r\n",
        "Is_kuadrat = signal_power()\r\n",
        "print('Is^2 = ', Is_kuadrat)"
      ],
      "execution_count": 6,
      "outputs": [
        {
          "output_type": "stream",
          "text": [
            "Is^2 =  [9.12123245e-10 8.01776870e-10 7.04779922e-10 6.19517421e-10\n",
            " 5.44569763e-10 4.78689083e-10 4.20778483e-10 3.69873761e-10\n",
            " 3.25127364e-10 2.85794274e-10 2.51219602e-10 2.20827687e-10\n",
            " 1.94112509e-10 1.70629266e-10 1.49986967e-10 1.31841921e-10]\n"
          ],
          "name": "stdout"
        }
      ]
    },
    {
      "cell_type": "code",
      "metadata": {
        "id": "um6YWi6twwzm",
        "colab": {
          "base_uri": "https://localhost:8080/"
        },
        "outputId": "d3098ccc-d0ad-4454-ab3f-d231c5f1fcfb"
      },
      "source": [
        "#RUMUS SNR\r\n",
        "def SNR():\r\n",
        "  BDC = 2*q*id*B*(M**2)*F #Dark Current (Numerik)\r\n",
        "  SN = 2*q*ip*B*(M**2)*F #Shot Noise (Numerik)\r\n",
        "  NT = (4*K*Teff*B)/RL #Noise Thermal (Numerik)\r\n",
        "  Signal = Is_kuadrat # (Numerik)\r\n",
        "  Noise = BDC + SN + NT # (Numerik)\r\n",
        "\r\n",
        "  SNR = Signal / Noise\r\n",
        "  SNR_dBm = NtL(SNR)\r\n",
        "  return SNR_dBm\r\n",
        "\r\n",
        "SNR = SNR()\r\n",
        "print(SNR)"
      ],
      "execution_count": 7,
      "outputs": [
        {
          "output_type": "stream",
          "text": [
            "[25.48587084 24.92774089 24.36949492 23.81114007 23.25268307 22.69413023\n",
            " 22.13548746 21.57676034 21.01795408 20.45907358 19.90012345 19.341108\n",
            " 18.78203127 18.22289708 17.66370898 17.10447033]\n"
          ],
          "name": "stdout"
        }
      ]
    },
    {
      "cell_type": "code",
      "metadata": {
        "id": "boO1o1_jw-0A",
        "colab": {
          "base_uri": "https://localhost:8080/"
        },
        "outputId": "acda91b7-dbe9-42f6-c204-dad1849a088e"
      },
      "source": [
        "#RUMUS Q\r\n",
        "def Q_rumus():\r\n",
        "  Q_rumus = 0.5*(10**(SNR/20))\r\n",
        "  return Q_rumus\r\n",
        "Q = Q_rumus()\r\n",
        "print(Q)"
      ],
      "execution_count": 8,
      "outputs": [
        {
          "output_type": "stream",
          "text": [
            "[9.40293743 8.81773513 8.26884308 7.75402163 7.27116764 6.81830643\n",
            " 6.39358403 5.99525999 5.62170055 5.27137222 4.94283572 4.6347403\n",
            " 4.34581834 4.07488032 3.8208101  3.5825604 ]\n"
          ],
          "name": "stdout"
        }
      ]
    },
    {
      "cell_type": "code",
      "metadata": {
        "id": "WwL4OeQAxJH7",
        "colab": {
          "base_uri": "https://localhost:8080/"
        },
        "outputId": "1e2c1215-4447-4313-b94a-3a48d679e71f"
      },
      "source": [
        "#RUMUS BER\r\n",
        "pengkali_list = []\r\n",
        "def BER_rumus():\r\n",
        "  akar = 1/(Q * m.sqrt(2 * m.pi))\r\n",
        "  for i in range(len(Q)):\r\n",
        "    pengkali = m.exp(-(Q[i]**2)/2)\r\n",
        "    pengkali_list.append(pengkali)\r\n",
        "  BER = (1/akar)*(pengkali_list)\r\n",
        "  return BER\r\n",
        "BER = BER_rumus()\r\n",
        "print(BER)"
      ],
      "execution_count": 9,
      "outputs": [
        {
          "output_type": "stream",
          "text": [
            "[1.49014909e-18 2.88879275e-16 2.94686379e-14 1.70872175e-12\n",
            " 6.02761847e-11 1.37322802e-09 2.12964627e-08 2.35474438e-07\n",
            " 1.93348634e-06 1.22197960e-05 6.13488111e-05 2.51544632e-04\n",
            " 8.63155335e-04 2.53250864e-03 6.47443511e-03 1.46640959e-02]\n"
          ],
          "name": "stdout"
        }
      ]
    },
    {
      "cell_type": "code",
      "metadata": {
        "id": "WZ_OuqiWxNGO",
        "colab": {
          "base_uri": "https://localhost:8080/",
          "height": 851
        },
        "outputId": "e21a4728-1b92-4ad7-d207-821a7b426650"
      },
      "source": [
        "#GRAFIK\r\n",
        "def grafik_1():\r\n",
        "  plt.figure()\r\n",
        "  plt.plot(d,SNR,'r')\r\n",
        "  plt.title('Perbandingan Jarak dengan SNR')\r\n",
        "  plt.xlabel('Jarak (Km)')\r\n",
        "  plt.ylabel('SNR (dB)')\r\n",
        "  plt.show()\r\n",
        "\r\n",
        "def grafik_2():\r\n",
        "  plt.figure()\r\n",
        "  plt.plot(d,Q,'g')\r\n",
        "  plt.title('Perbandingan Jarak dengan Q')\r\n",
        "  plt.xlabel('Jarak (Km)')\r\n",
        "  plt.ylabel('Q')\r\n",
        "  plt.show()\r\n",
        "\r\n",
        "def grafik_3():\r\n",
        "  plt.figure()\r\n",
        "  plt.plot(d,BER,'b')\r\n",
        "  plt.title('Perbandingan Jarak dengan BER')\r\n",
        "  plt.xlabel('Jarak (Km)')\r\n",
        "  plt.ylabel('BER')\r\n",
        "  plt.show()\r\n",
        "\r\n",
        "grafik_1()\r\n",
        "grafik_2()\r\n",
        "grafik_3()"
      ],
      "execution_count": 10,
      "outputs": [
        {
          "output_type": "display_data",
          "data": {
            "image/png": "[encoded data removed]",
            "text/plain": [
              "<Figure size 432x288 with 1 Axes>"
            ]
          },
          "metadata": {
            "tags": [],
            "needs_background": "light"
          }
        },
        {
          "output_type": "display_data",
          "data": {
            "image/png": "[encoded data removed]",
            "text/plain": [
              "<Figure size 432x288 with 1 Axes>"
            ]
          },
          "metadata": {
            "tags": [],
            "needs_background": "light"
          }
        },
        {
          "output_type": "display_data",
          "data": {
            "image/png": "[encoded data removed]",
            "text/plain": [
              "<Figure size 432x288 with 1 Axes>"
            ]
          },
          "metadata": {
            "tags": [],
            "needs_background": "light"
          }
        }
      ]
    }
  ]
}